{
 "cells": [
  {
   "cell_type": "markdown",
   "id": "36817cf5-d5ce-4498-8d15-dff103027cf5",
   "metadata": {},
   "source": [
    "#1"
   ]
  },
  {
   "cell_type": "code",
   "execution_count": 7,
   "id": "7b71856a-8702-47e3-ac7f-f8408c70e4e7",
   "metadata": {},
   "outputs": [
    {
     "name": "stdin",
     "output_type": "stream",
     "text": [
      "Enter your percentage = 59.9\n"
     ]
    },
    {
     "name": "stdout",
     "output_type": "stream",
     "text": [
      "Grade = D\n"
     ]
    }
   ],
   "source": [
    "per=float(input(\"Enter your percentage =\"))\n",
    "if per>90:\n",
    "    print(\"Grade = A\")\n",
    "elif per>80 and per<=90:\n",
    "    print(\"Grade = B\")\n",
    "elif per>=60 and per<=80:\n",
    "    print(\"Grade = C\")\n",
    "else:\n",
    "    print(\"Grade = D\")"
   ]
  },
  {
   "cell_type": "markdown",
   "id": "37071b42-5d55-4802-9652-de978cae0051",
   "metadata": {},
   "source": [
    "#2"
   ]
  },
  {
   "cell_type": "code",
   "execution_count": 13,
   "id": "d6c0ddcb-4d8e-4d74-be07-7d5c9303402e",
   "metadata": {},
   "outputs": [
    {
     "name": "stdin",
     "output_type": "stream",
     "text": [
      "Enter price of your bike= 65000\n"
     ]
    },
    {
     "name": "stdout",
     "output_type": "stream",
     "text": [
      "Tax = 10%\n",
      "Tax to be paid = 6500.0\n"
     ]
    }
   ],
   "source": [
    "price=int(input(\"Enter price of your bike=\"))\n",
    "if price>100000:\n",
    "    print(\"Tax = 15%\")\n",
    "    print(\"Tax to be paid =\",(price *0.15))\n",
    "elif price>50000 and price<=100000:\n",
    "    print(\"Tax = 10%\")\n",
    "    print(\"Tax to be paid =\",(price *0.1))\n",
    "else:\n",
    "    print(\"Tax = 5%\")\n",
    "    print(\"Tax to be paid =\",(price *0.05))"
   ]
  },
  {
   "cell_type": "markdown",
   "id": "f6fc7286-fd7f-469a-ba90-a6ec024a3446",
   "metadata": {},
   "source": [
    "#3"
   ]
  },
  {
   "cell_type": "code",
   "execution_count": 18,
   "id": "8c845640-7d6b-458d-8768-14b2cdc38cf2",
   "metadata": {},
   "outputs": [
    {
     "name": "stdin",
     "output_type": "stream",
     "text": [
      "Enter city name= agra\n"
     ]
    },
    {
     "name": "stdout",
     "output_type": "stream",
     "text": [
      "Taj Mahal\n"
     ]
    }
   ],
   "source": [
    "city=input(\"Enter city name=\")\n",
    "if city.capitalize()==\"Delhi\":\n",
    "    print(\"Red Fort\")\n",
    "elif city.capitalize()==\"Agra\":\n",
    "    print(\"Taj Mahal\")\n",
    "elif city.capitalize()==\"Jaipur\":\n",
    "    print(\"Jal Mahal\")"
   ]
  },
  {
   "cell_type": "markdown",
   "id": "cb4f0b59-aa1d-48f8-bd7f-d17bca61bc8f",
   "metadata": {},
   "source": [
    "#4"
   ]
  },
  {
   "cell_type": "code",
   "execution_count": null,
   "id": "0104d53d-b6be-4836-9b5b-165d61ac41ec",
   "metadata": {},
   "outputs": [],
   "source": [
    "n=int(input(\"Enter any number=\"))\n",
    "counter=0\n",
    "while ((n%3)==0) and ((n//3)>10):\n",
    "    counter=counter+1\n",
    "    n=n//3\n",
    "print(counter)"
   ]
  },
  {
   "cell_type": "markdown",
   "id": "baf7ddbd-721e-4dbc-bcef-6b3812cd051e",
   "metadata": {},
   "source": [
    "#5"
   ]
  },
  {
   "cell_type": "code",
   "execution_count": null,
   "id": "65c0d99c-98c8-4740-93dc-411c06d027f9",
   "metadata": {},
   "outputs": [],
   "source": [
    "# A while loop in Python is used to repeatedly execute a block of code as long as a condition is met.\n",
    "# The code inside the loop will be executed repeatedly until the condition becomes False.\n",
    "# example\n",
    "i = 1\n",
    "while i < 7:\n",
    "    print(i)\n",
    "    i=i+1"
   ]
  },
  {
   "cell_type": "markdown",
   "id": "2e2553c5-9874-4ce1-8957-6e261e00d221",
   "metadata": {},
   "source": [
    "#6"
   ]
  },
  {
   "cell_type": "code",
   "execution_count": null,
   "id": "6f3f2885-7b54-42d3-ae3f-8e7603adbfa3",
   "metadata": {},
   "outputs": [],
   "source": [
    "\"\"\"\n",
    "*\n",
    "* *\n",
    "* * *\n",
    "* * * *\n",
    "\"\"\""
   ]
  },
  {
   "cell_type": "code",
   "execution_count": null,
   "id": "a5086ea4-5045-43bc-8a84-22943967675b",
   "metadata": {},
   "outputs": [],
   "source": [
    "n=4\n",
    "i=1\n",
    "while i<=n:\n",
    "    j=1\n",
    "    while j<=i:\n",
    "        print(\"*\",end=\" \")\n",
    "        j=j+1\n",
    "    print()\n",
    "    i=i+1"
   ]
  },
  {
   "cell_type": "code",
   "execution_count": null,
   "id": "a69ab320-a5e6-4c61-8edd-18e6624a5588",
   "metadata": {},
   "outputs": [],
   "source": [
    "\"\"\"\n",
    "* * * *\n",
    "* * *\n",
    "* *\n",
    "*\n",
    "\"\"\""
   ]
  },
  {
   "cell_type": "code",
   "execution_count": null,
   "id": "d5ded59c-0684-4ff4-8a9c-5bb2f94f9229",
   "metadata": {},
   "outputs": [],
   "source": [
    "n=4\n",
    "i=1\n",
    "while i<=n:\n",
    "    j=1\n",
    "    while j<=(n-i+1):\n",
    "        print(\"*\",end=\" \")\n",
    "        j=j+1\n",
    "    print()\n",
    "    i=i+1"
   ]
  },
  {
   "cell_type": "code",
   "execution_count": null,
   "id": "1252420d-4e57-4390-8c2c-5224908d7fd9",
   "metadata": {},
   "outputs": [],
   "source": [
    "\"\"\"\n",
    "        * \n",
    "      * * \n",
    "    * * * \n",
    "  * * * * \n",
    "* * * * * \n",
    "\"\"\""
   ]
  },
  {
   "cell_type": "code",
   "execution_count": null,
   "id": "39ff977d-853b-47f1-8b62-3a847b841fd7",
   "metadata": {},
   "outputs": [],
   "source": [
    "n=5\n",
    "i=1\n",
    "while i<=n:\n",
    "    j=1\n",
    "    while j<=(n-i):\n",
    "        print(\" \",end=\" \")\n",
    "        j=j+1\n",
    "    j=1\n",
    "    while j<=i:\n",
    "        print(\"*\",end=\" \")\n",
    "        j=j+1\n",
    "    print()\n",
    "    i=i+1"
   ]
  },
  {
   "cell_type": "markdown",
   "id": "b0ea7fcf-12c2-432f-800f-128cdcdb92aa",
   "metadata": {},
   "source": [
    "# 7"
   ]
  },
  {
   "cell_type": "code",
   "execution_count": null,
   "id": "14d42982-405a-4120-80c6-9550b17de23e",
   "metadata": {},
   "outputs": [],
   "source": [
    "i=10\n",
    "while i>=1:\n",
    "    print(i)\n",
    "    i=i-1"
   ]
  },
  {
   "cell_type": "code",
   "execution_count": null,
   "id": "50764788-c96a-449e-b197-4a262a0976a5",
   "metadata": {},
   "outputs": [],
   "source": [
    "# 8th question is same as 7th"
   ]
  }
 ],
 "metadata": {
  "kernelspec": {
   "display_name": "Python 3 (ipykernel)",
   "language": "python",
   "name": "python3"
  },
  "language_info": {
   "codemirror_mode": {
    "name": "ipython",
    "version": 3
   },
   "file_extension": ".py",
   "mimetype": "text/x-python",
   "name": "python",
   "nbconvert_exporter": "python",
   "pygments_lexer": "ipython3",
   "version": "3.10.8"
  }
 },
 "nbformat": 4,
 "nbformat_minor": 5
}
